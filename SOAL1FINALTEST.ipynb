{
  "nbformat": 4,
  "nbformat_minor": 0,
  "metadata": {
    "colab": {
      "provenance": []
    },
    "kernelspec": {
      "name": "python3",
      "display_name": "Python 3"
    },
    "language_info": {
      "name": "python"
    }
  },
  "cells": [
    {
      "cell_type": "code",
      "execution_count": 18,
      "metadata": {
        "id": "G6DJ5uZ-S7SE"
      },
      "outputs": [],
      "source": [
        "import requests\n",
        "\n",
        "api_url = \"https://berita-indo-api-next.vercel.app/api/cnn-news/teknologi\"\n",
        "response = requests.get(api_url)\n",
        "\n",
        "if response.status_code == 200:\n",
        "    data_json = response.json()\n",
        "    news_data = data_json.get(\"data\", [])\n",
        "else:\n",
        "    print(f\"Failed to fetch data. Status Code: {response.status_code}\")\n",
        "\n"
      ]
    },
    {
      "cell_type": "code",
      "source": [
        "import pandas as pd\n",
        "\n",
        "df = pd.DataFrame(news_data)\n",
        "\n",
        "print(df.head())\n"
      ],
      "metadata": {
        "colab": {
          "base_uri": "https://localhost:8080/"
        },
        "id": "C0eN2L8KTKT6",
        "outputId": "88587873-5816-4fd2-d200-5de01e8a9880"
      },
      "execution_count": 19,
      "outputs": [
        {
          "output_type": "stream",
          "name": "stdout",
          "text": [
            "                                               title  \\\n",
            "0  BTPN Bongkar Manfaat Digitalisasi: Pinjam Dana...   \n",
            "1  Menkominfo Tegaskan Jaringan Internet di IKN H...   \n",
            "2  BAKTI Ungkap 1 Faktor di Luar Kuasa Buat Sebar...   \n",
            "3  Bubble Burst Startup RI Diprediksi Hasilkan 'B...   \n",
            "4  Zulhas Akui Tak Anti Asing Buntut Larangan S-C...   \n",
            "\n",
            "                                                link  \\\n",
            "0  https://www.cnnindonesia.com/teknologi/2023110...   \n",
            "1  https://www.cnnindonesia.com/teknologi/2023110...   \n",
            "2  https://www.cnnindonesia.com/teknologi/2023110...   \n",
            "3  https://www.cnnindonesia.com/teknologi/2023110...   \n",
            "4  https://www.cnnindonesia.com/teknologi/2023110...   \n",
            "\n",
            "                                      contentSnippet  \\\n",
            "0  PT Bank BTPN mengungkap salah satu manfaat dig...   \n",
            "1  Menurut Menkominfo Budi Arie Setiadi IKN akan ...   \n",
            "2  Badan Aksesibilitas Telekomunikasi dan Informa...   \n",
            "3  Fenomena bubble burst sempat dialami banyak st...   \n",
            "4  Zulhas menegaskan pemerintah tidak anti asing ...   \n",
            "\n",
            "                    isoDate                                              image  \n",
            "0  2023-11-09T13:33:20.000Z  {'small': 'https://akcdn.detik.net.id/visual/2...  \n",
            "1  2023-11-09T13:20:35.000Z  {'small': 'https://akcdn.detik.net.id/visual/2...  \n",
            "2  2023-11-09T13:14:05.000Z  {'small': 'https://akcdn.detik.net.id/visual/2...  \n",
            "3  2023-11-09T12:54:33.000Z  {'small': 'https://akcdn.detik.net.id/visual/2...  \n",
            "4  2023-11-09T12:34:39.000Z  {'small': 'https://akcdn.detik.net.id/visual/2...  \n"
          ]
        }
      ]
    },
    {
      "cell_type": "code",
      "source": [
        "\n",
        "df['isoDate'] = pd.to_datetime(df['isoDate'])\n",
        "\n",
        "print(df.head())"
      ],
      "metadata": {
        "colab": {
          "base_uri": "https://localhost:8080/"
        },
        "id": "U3utIQrqTNtF",
        "outputId": "ea73e24c-b27e-486e-89c2-390c28daf919"
      },
      "execution_count": 20,
      "outputs": [
        {
          "output_type": "stream",
          "name": "stdout",
          "text": [
            "                                               title  \\\n",
            "0  BTPN Bongkar Manfaat Digitalisasi: Pinjam Dana...   \n",
            "1  Menkominfo Tegaskan Jaringan Internet di IKN H...   \n",
            "2  BAKTI Ungkap 1 Faktor di Luar Kuasa Buat Sebar...   \n",
            "3  Bubble Burst Startup RI Diprediksi Hasilkan 'B...   \n",
            "4  Zulhas Akui Tak Anti Asing Buntut Larangan S-C...   \n",
            "\n",
            "                                                link  \\\n",
            "0  https://www.cnnindonesia.com/teknologi/2023110...   \n",
            "1  https://www.cnnindonesia.com/teknologi/2023110...   \n",
            "2  https://www.cnnindonesia.com/teknologi/2023110...   \n",
            "3  https://www.cnnindonesia.com/teknologi/2023110...   \n",
            "4  https://www.cnnindonesia.com/teknologi/2023110...   \n",
            "\n",
            "                                      contentSnippet  \\\n",
            "0  PT Bank BTPN mengungkap salah satu manfaat dig...   \n",
            "1  Menurut Menkominfo Budi Arie Setiadi IKN akan ...   \n",
            "2  Badan Aksesibilitas Telekomunikasi dan Informa...   \n",
            "3  Fenomena bubble burst sempat dialami banyak st...   \n",
            "4  Zulhas menegaskan pemerintah tidak anti asing ...   \n",
            "\n",
            "                    isoDate                                              image  \n",
            "0 2023-11-09 13:33:20+00:00  {'small': 'https://akcdn.detik.net.id/visual/2...  \n",
            "1 2023-11-09 13:20:35+00:00  {'small': 'https://akcdn.detik.net.id/visual/2...  \n",
            "2 2023-11-09 13:14:05+00:00  {'small': 'https://akcdn.detik.net.id/visual/2...  \n",
            "3 2023-11-09 12:54:33+00:00  {'small': 'https://akcdn.detik.net.id/visual/2...  \n",
            "4 2023-11-09 12:34:39+00:00  {'small': 'https://akcdn.detik.net.id/visual/2...  \n"
          ]
        }
      ]
    },
    {
      "cell_type": "code",
      "source": [
        "aggregated_data = df.groupby('creator').size().reset_index(name='jumlah_berita')\n",
        "sorted_data = aggregated_data.sort_values(by='jumlah_berita', ascending=False)\n",
        "\n",
        "print(sorted_data)\n"
      ],
      "metadata": {
        "colab": {
          "base_uri": "https://localhost:8080/",
          "height": 373
        },
        "id": "cbvnIuwhTbR1",
        "outputId": "2038364d-1c22-4ba1-c871-0e3674b7896c"
      },
      "execution_count": 21,
      "outputs": [
        {
          "output_type": "error",
          "ename": "KeyError",
          "evalue": "ignored",
          "traceback": [
            "\u001b[0;31m---------------------------------------------------------------------------\u001b[0m",
            "\u001b[0;31mKeyError\u001b[0m                                  Traceback (most recent call last)",
            "\u001b[0;32m<ipython-input-21-110a51edb05d>\u001b[0m in \u001b[0;36m<cell line: 1>\u001b[0;34m()\u001b[0m\n\u001b[0;32m----> 1\u001b[0;31m \u001b[0maggregated_data\u001b[0m \u001b[0;34m=\u001b[0m \u001b[0mdf\u001b[0m\u001b[0;34m.\u001b[0m\u001b[0mgroupby\u001b[0m\u001b[0;34m(\u001b[0m\u001b[0;34m'creator'\u001b[0m\u001b[0;34m)\u001b[0m\u001b[0;34m.\u001b[0m\u001b[0msize\u001b[0m\u001b[0;34m(\u001b[0m\u001b[0;34m)\u001b[0m\u001b[0;34m.\u001b[0m\u001b[0mreset_index\u001b[0m\u001b[0;34m(\u001b[0m\u001b[0mname\u001b[0m\u001b[0;34m=\u001b[0m\u001b[0;34m'jumlah_berita'\u001b[0m\u001b[0;34m)\u001b[0m\u001b[0;34m\u001b[0m\u001b[0;34m\u001b[0m\u001b[0m\n\u001b[0m\u001b[1;32m      2\u001b[0m \u001b[0msorted_data\u001b[0m \u001b[0;34m=\u001b[0m \u001b[0maggregated_data\u001b[0m\u001b[0;34m.\u001b[0m\u001b[0msort_values\u001b[0m\u001b[0;34m(\u001b[0m\u001b[0mby\u001b[0m\u001b[0;34m=\u001b[0m\u001b[0;34m'jumlah_berita'\u001b[0m\u001b[0;34m,\u001b[0m \u001b[0mascending\u001b[0m\u001b[0;34m=\u001b[0m\u001b[0;32mFalse\u001b[0m\u001b[0;34m)\u001b[0m\u001b[0;34m\u001b[0m\u001b[0;34m\u001b[0m\u001b[0m\n\u001b[1;32m      3\u001b[0m \u001b[0;34m\u001b[0m\u001b[0m\n\u001b[1;32m      4\u001b[0m \u001b[0mprint\u001b[0m\u001b[0;34m(\u001b[0m\u001b[0msorted_data\u001b[0m\u001b[0;34m)\u001b[0m\u001b[0;34m\u001b[0m\u001b[0;34m\u001b[0m\u001b[0m\n",
            "\u001b[0;32m/usr/local/lib/python3.10/dist-packages/pandas/core/frame.py\u001b[0m in \u001b[0;36mgroupby\u001b[0;34m(self, by, axis, level, as_index, sort, group_keys, squeeze, observed, dropna)\u001b[0m\n\u001b[1;32m   8400\u001b[0m         \u001b[0maxis\u001b[0m \u001b[0;34m=\u001b[0m \u001b[0mself\u001b[0m\u001b[0;34m.\u001b[0m\u001b[0m_get_axis_number\u001b[0m\u001b[0;34m(\u001b[0m\u001b[0maxis\u001b[0m\u001b[0;34m)\u001b[0m\u001b[0;34m\u001b[0m\u001b[0;34m\u001b[0m\u001b[0m\n\u001b[1;32m   8401\u001b[0m \u001b[0;34m\u001b[0m\u001b[0m\n\u001b[0;32m-> 8402\u001b[0;31m         return DataFrameGroupBy(\n\u001b[0m\u001b[1;32m   8403\u001b[0m             \u001b[0mobj\u001b[0m\u001b[0;34m=\u001b[0m\u001b[0mself\u001b[0m\u001b[0;34m,\u001b[0m\u001b[0;34m\u001b[0m\u001b[0;34m\u001b[0m\u001b[0m\n\u001b[1;32m   8404\u001b[0m             \u001b[0mkeys\u001b[0m\u001b[0;34m=\u001b[0m\u001b[0mby\u001b[0m\u001b[0;34m,\u001b[0m\u001b[0;34m\u001b[0m\u001b[0;34m\u001b[0m\u001b[0m\n",
            "\u001b[0;32m/usr/local/lib/python3.10/dist-packages/pandas/core/groupby/groupby.py\u001b[0m in \u001b[0;36m__init__\u001b[0;34m(self, obj, keys, axis, level, grouper, exclusions, selection, as_index, sort, group_keys, squeeze, observed, mutated, dropna)\u001b[0m\n\u001b[1;32m    963\u001b[0m             \u001b[0;32mfrom\u001b[0m \u001b[0mpandas\u001b[0m\u001b[0;34m.\u001b[0m\u001b[0mcore\u001b[0m\u001b[0;34m.\u001b[0m\u001b[0mgroupby\u001b[0m\u001b[0;34m.\u001b[0m\u001b[0mgrouper\u001b[0m \u001b[0;32mimport\u001b[0m \u001b[0mget_grouper\u001b[0m\u001b[0;34m\u001b[0m\u001b[0;34m\u001b[0m\u001b[0m\n\u001b[1;32m    964\u001b[0m \u001b[0;34m\u001b[0m\u001b[0m\n\u001b[0;32m--> 965\u001b[0;31m             grouper, exclusions, obj = get_grouper(\n\u001b[0m\u001b[1;32m    966\u001b[0m                 \u001b[0mobj\u001b[0m\u001b[0;34m,\u001b[0m\u001b[0;34m\u001b[0m\u001b[0;34m\u001b[0m\u001b[0m\n\u001b[1;32m    967\u001b[0m                 \u001b[0mkeys\u001b[0m\u001b[0;34m,\u001b[0m\u001b[0;34m\u001b[0m\u001b[0;34m\u001b[0m\u001b[0m\n",
            "\u001b[0;32m/usr/local/lib/python3.10/dist-packages/pandas/core/groupby/grouper.py\u001b[0m in \u001b[0;36mget_grouper\u001b[0;34m(obj, key, axis, level, sort, observed, mutated, validate, dropna)\u001b[0m\n\u001b[1;32m    886\u001b[0m                 \u001b[0min_axis\u001b[0m\u001b[0;34m,\u001b[0m \u001b[0mlevel\u001b[0m\u001b[0;34m,\u001b[0m \u001b[0mgpr\u001b[0m \u001b[0;34m=\u001b[0m \u001b[0;32mFalse\u001b[0m\u001b[0;34m,\u001b[0m \u001b[0mgpr\u001b[0m\u001b[0;34m,\u001b[0m \u001b[0;32mNone\u001b[0m\u001b[0;34m\u001b[0m\u001b[0;34m\u001b[0m\u001b[0m\n\u001b[1;32m    887\u001b[0m             \u001b[0;32melse\u001b[0m\u001b[0;34m:\u001b[0m\u001b[0;34m\u001b[0m\u001b[0;34m\u001b[0m\u001b[0m\n\u001b[0;32m--> 888\u001b[0;31m                 \u001b[0;32mraise\u001b[0m \u001b[0mKeyError\u001b[0m\u001b[0;34m(\u001b[0m\u001b[0mgpr\u001b[0m\u001b[0;34m)\u001b[0m\u001b[0;34m\u001b[0m\u001b[0;34m\u001b[0m\u001b[0m\n\u001b[0m\u001b[1;32m    889\u001b[0m         \u001b[0;32melif\u001b[0m \u001b[0misinstance\u001b[0m\u001b[0;34m(\u001b[0m\u001b[0mgpr\u001b[0m\u001b[0;34m,\u001b[0m \u001b[0mGrouper\u001b[0m\u001b[0;34m)\u001b[0m \u001b[0;32mand\u001b[0m \u001b[0mgpr\u001b[0m\u001b[0;34m.\u001b[0m\u001b[0mkey\u001b[0m \u001b[0;32mis\u001b[0m \u001b[0;32mnot\u001b[0m \u001b[0;32mNone\u001b[0m\u001b[0;34m:\u001b[0m\u001b[0;34m\u001b[0m\u001b[0;34m\u001b[0m\u001b[0m\n\u001b[1;32m    890\u001b[0m             \u001b[0;31m# Add key to exclusions\u001b[0m\u001b[0;34m\u001b[0m\u001b[0;34m\u001b[0m\u001b[0m\n",
            "\u001b[0;31mKeyError\u001b[0m: 'creator'"
          ]
        }
      ]
    },
    {
      "cell_type": "code",
      "source": [
        "!pip install requests pandas\n"
      ],
      "metadata": {
        "colab": {
          "base_uri": "https://localhost:8080/"
        },
        "id": "YY36eUJ-VM_9",
        "outputId": "0335cda6-6ce3-4c8b-e7e2-ea18c914ed19"
      },
      "execution_count": 22,
      "outputs": [
        {
          "output_type": "stream",
          "name": "stdout",
          "text": [
            "Requirement already satisfied: requests in /usr/local/lib/python3.10/dist-packages (2.31.0)\n",
            "Requirement already satisfied: pandas in /usr/local/lib/python3.10/dist-packages (1.5.3)\n",
            "Requirement already satisfied: charset-normalizer<4,>=2 in /usr/local/lib/python3.10/dist-packages (from requests) (3.3.2)\n",
            "Requirement already satisfied: idna<4,>=2.5 in /usr/local/lib/python3.10/dist-packages (from requests) (3.4)\n",
            "Requirement already satisfied: urllib3<3,>=1.21.1 in /usr/local/lib/python3.10/dist-packages (from requests) (2.0.7)\n",
            "Requirement already satisfied: certifi>=2017.4.17 in /usr/local/lib/python3.10/dist-packages (from requests) (2023.7.22)\n",
            "Requirement already satisfied: python-dateutil>=2.8.1 in /usr/local/lib/python3.10/dist-packages (from pandas) (2.8.2)\n",
            "Requirement already satisfied: pytz>=2020.1 in /usr/local/lib/python3.10/dist-packages (from pandas) (2023.3.post1)\n",
            "Requirement already satisfied: numpy>=1.21.0 in /usr/local/lib/python3.10/dist-packages (from pandas) (1.23.5)\n",
            "Requirement already satisfied: six>=1.5 in /usr/local/lib/python3.10/dist-packages (from python-dateutil>=2.8.1->pandas) (1.16.0)\n"
          ]
        }
      ]
    }
  ]
}